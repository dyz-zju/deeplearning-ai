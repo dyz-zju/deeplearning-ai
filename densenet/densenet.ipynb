{
 "cells": [
  {
   "cell_type": "code",
   "execution_count": 1,
   "metadata": {},
   "outputs": [
    {
     "name": "stderr",
     "output_type": "stream",
     "text": [
      "Using TensorFlow backend.\n"
     ]
    }
   ],
   "source": [
    "%matplotlib inline\n",
    "import os\n",
    "os.environ[\"CUDA_DEVICE_ORDER\"]=\"PCI_BUS_ID\"\n",
    "os.environ[\"CUDA_VISIBLE_DEVICES\"]=\"1\"\n",
    "import numpy as np\n",
    "import keras\n",
    "from keras.datasets import cifar10\n",
    "from keras.layers import Input, Dense, Conv2D, AveragePooling2D, Activation, GlobalAveragePooling2D, Lambda\n",
    "from keras.layers.core import Dropout\n",
    "from keras.layers.merge import Concatenate\n",
    "from keras.layers.normalization import BatchNormalization\n",
    "from keras.initializers import Initializer\n",
    "from keras.regularizers import l2\n",
    "from keras.models import Model\n",
    "from keras.optimizers import Adam\n",
    "from PIL import Image\n",
    "import scipy.misc\n",
    "import matplotlib.pyplot as plt\n",
    "from scipy.misc import imsave\n",
    "import pydot\n",
    "import graphviz\n",
    "from keras.utils import plot_model"
   ]
  },
  {
   "cell_type": "code",
   "execution_count": 2,
   "metadata": {},
   "outputs": [],
   "source": [
    "(xx_train, yy_train), (x_test, y_test) = cifar10.load_data()\n",
    "x_train = xx_train[:40000]\n",
    "y_train = yy_train[:40000]\n",
    "x_validate = xx_train[40000:50000]\n",
    "y_validate = yy_train[40000:50000]\n",
    "\n",
    "x_train = x_train/255.0\n",
    "x_validate = x_validate/255.0\n",
    "x_test = x_test/255.0"
   ]
  },
  {
   "cell_type": "code",
   "execution_count": 3,
   "metadata": {
    "collapsed": true
   },
   "outputs": [],
   "source": [
    "def dense_block(x,num_layers_per_block,growth_rate):\n",
    "    for i in range(num_layers_per_block//2):\n",
    "        x_ = BatchNormalization()(x)\n",
    "        x_ = Activation('relu')(x_)\n",
    "        x_ = Conv2D(number_filters,(3,3),padding='same',kernel_initializer='he_normal',kernel_regularizer=l2(0.0001))(x_)\n",
    "        x_ = Dropout(0.2)(x_)\n",
    "        x_ = BatchNormalization()(x_)\n",
    "        x_ = Activation('relu')(x_)\n",
    "        x = Concatenate()([x,x_])\n",
    "    return x \n",
    "\n",
    "def transition_layers(x,compression):\n",
    "    updated_num_filters = int(x.get_shape().as_list()[-1] * compression)\n",
    "    x = BatchNormalization()(x)\n",
    "    x = Activation('relu')(x)\n",
    "    x = Conv2D(updated_num_filters,(1,1),padding='same',kernel_initializer='he_normal',kernel_regularizer=l2(0.0001))(x)\n",
    "    x = Dropout(0.2)(x)\n",
    "    x = AveragePooling2D()(x)\n",
    "    return x"
   ]
  },
  {
   "cell_type": "code",
   "execution_count": 4,
   "metadata": {
    "collapsed": true
   },
   "outputs": [],
   "source": [
    "#Define model parameters\n",
    "model_depth = 100\n",
    "num_dense_blocks = 3\n",
    "growth_rate = 12\n",
    "number_filters = 16\n",
    "compression = 0.5\n",
    "num_layers_per_block = (model_depth - 4) // num_dense_blocks"
   ]
  },
  {
   "cell_type": "code",
   "execution_count": 5,
   "metadata": {},
   "outputs": [],
   "source": [
    "#Let's define the model\n",
    "inp = Input(x_train.shape[1:])\n",
    "x = Conv2D(number_filters,(1,1),padding='same',kernel_initializer='he_normal',kernel_regularizer=l2(0.0001))(inp)\n",
    "for i in range(num_dense_blocks):\n",
    "    x = dense_block(x,num_layers_per_block,growth_rate)\n",
    "    if (i != num_dense_blocks-1):\n",
    "        x = transition_layers(x,compression)\n",
    "x = BatchNormalization()(x)\n",
    "x = Activation('relu')(x)\n",
    "x = GlobalAveragePooling2D()(x)\n",
    "x = Dense(10, activation='softmax',kernel_initializer='he_normal',kernel_regularizer=l2(0.0001))(x)\n",
    "\n",
    "model = Model(inp, x)\n",
    "model.compile(Adam(), loss='sparse_categorical_crossentropy',metrics=['accuracy'])\n",
    "earlyStopping=keras.callbacks.EarlyStopping(monitor='val_acc', patience=15, verbose=0, mode='auto')\n",
    "plot_model(model, to_file='model.png')"
   ]
  },
  {
   "cell_type": "code",
   "execution_count": 6,
   "metadata": {},
   "outputs": [
    {
     "name": "stdout",
     "output_type": "stream",
     "text": [
      "Train on 40000 samples, validate on 10000 samples\n",
      "Epoch 1/120\n",
      "40000/40000 [==============================] - 181s - loss: 1.5732 - acc: 0.4924 - val_loss: 1.8264 - val_acc: 0.4346\n",
      "Epoch 2/120\n",
      "40000/40000 [==============================] - 174s - loss: 1.1432 - acc: 0.6556 - val_loss: 1.4551 - val_acc: 0.5880\n",
      "Epoch 3/120\n",
      "40000/40000 [==============================] - 175s - loss: 0.9696 - acc: 0.7214 - val_loss: 1.1464 - val_acc: 0.6629\n",
      "Epoch 4/120\n",
      "40000/40000 [==============================] - 175s - loss: 0.8473 - acc: 0.7708 - val_loss: 0.9254 - val_acc: 0.7528\n",
      "Epoch 5/120\n",
      "40000/40000 [==============================] - 175s - loss: 0.7693 - acc: 0.8014 - val_loss: 0.8630 - val_acc: 0.7672\n",
      "Epoch 6/120\n",
      "40000/40000 [==============================] - 175s - loss: 0.7058 - acc: 0.8250 - val_loss: 1.1305 - val_acc: 0.6971\n",
      "Epoch 7/120\n",
      "40000/40000 [==============================] - 175s - loss: 0.6682 - acc: 0.8401 - val_loss: 1.1043 - val_acc: 0.7034\n",
      "Epoch 8/120\n",
      "40000/40000 [==============================] - 175s - loss: 0.6391 - acc: 0.8531 - val_loss: 0.8350 - val_acc: 0.7994\n",
      "Epoch 9/120\n",
      "40000/40000 [==============================] - 175s - loss: 0.6129 - acc: 0.8629 - val_loss: 0.8826 - val_acc: 0.7875\n",
      "Epoch 10/120\n",
      "40000/40000 [==============================] - 175s - loss: 0.5872 - acc: 0.8722 - val_loss: 1.0547 - val_acc: 0.7575\n",
      "Epoch 11/120\n",
      "40000/40000 [==============================] - 175s - loss: 0.5723 - acc: 0.8803 - val_loss: 1.4067 - val_acc: 0.6901\n",
      "Epoch 12/120\n",
      "40000/40000 [==============================] - 175s - loss: 0.5570 - acc: 0.8876 - val_loss: 0.9712 - val_acc: 0.7768\n",
      "Epoch 13/120\n",
      "40000/40000 [==============================] - 175s - loss: 0.5462 - acc: 0.8910 - val_loss: 0.8377 - val_acc: 0.8193\n",
      "Epoch 14/120\n",
      "40000/40000 [==============================] - 175s - loss: 0.5343 - acc: 0.8972 - val_loss: 0.8317 - val_acc: 0.8157\n",
      "Epoch 15/120\n",
      "40000/40000 [==============================] - 175s - loss: 0.5227 - acc: 0.9035 - val_loss: 0.8737 - val_acc: 0.8210\n",
      "Epoch 16/120\n",
      "40000/40000 [==============================] - 175s - loss: 0.5107 - acc: 0.9088 - val_loss: 0.8164 - val_acc: 0.8188\n",
      "Epoch 17/120\n",
      "40000/40000 [==============================] - 175s - loss: 0.5038 - acc: 0.9124 - val_loss: 0.7731 - val_acc: 0.8413\n",
      "Epoch 18/120\n",
      "40000/40000 [==============================] - 175s - loss: 0.5004 - acc: 0.9154 - val_loss: 0.7504 - val_acc: 0.8456\n",
      "Epoch 19/120\n",
      "40000/40000 [==============================] - 175s - loss: 0.4923 - acc: 0.9177 - val_loss: 0.7638 - val_acc: 0.8506\n",
      "Epoch 20/120\n",
      "40000/40000 [==============================] - 175s - loss: 0.4782 - acc: 0.9243 - val_loss: 0.7571 - val_acc: 0.8468\n",
      "Epoch 21/120\n",
      "40000/40000 [==============================] - 174s - loss: 0.4838 - acc: 0.9213 - val_loss: 0.7250 - val_acc: 0.8589\n",
      "Epoch 22/120\n",
      "40000/40000 [==============================] - 174s - loss: 0.4669 - acc: 0.9286 - val_loss: 0.8020 - val_acc: 0.8533\n",
      "Epoch 23/120\n",
      "40000/40000 [==============================] - 175s - loss: 0.4648 - acc: 0.9306 - val_loss: 0.8512 - val_acc: 0.8200\n",
      "Epoch 24/120\n",
      "40000/40000 [==============================] - 175s - loss: 0.4630 - acc: 0.9321 - val_loss: 0.7443 - val_acc: 0.8655\n",
      "Epoch 25/120\n",
      "40000/40000 [==============================] - 174s - loss: 0.4681 - acc: 0.9299 - val_loss: 0.8519 - val_acc: 0.8348\n",
      "Epoch 26/120\n",
      "40000/40000 [==============================] - 175s - loss: 0.4556 - acc: 0.9354 - val_loss: 0.7374 - val_acc: 0.8532\n",
      "Epoch 27/120\n",
      "40000/40000 [==============================] - 174s - loss: 0.4624 - acc: 0.9317 - val_loss: 0.7400 - val_acc: 0.8596\n",
      "Epoch 28/120\n",
      "40000/40000 [==============================] - 174s - loss: 0.4412 - acc: 0.9400 - val_loss: 0.7111 - val_acc: 0.8748\n",
      "Epoch 29/120\n",
      "40000/40000 [==============================] - 174s - loss: 0.4514 - acc: 0.9367 - val_loss: 0.9098 - val_acc: 0.8168\n",
      "Epoch 30/120\n",
      "40000/40000 [==============================] - 175s - loss: 0.4456 - acc: 0.9402 - val_loss: 0.8254 - val_acc: 0.8355\n",
      "Epoch 31/120\n",
      "40000/40000 [==============================] - 175s - loss: 0.4499 - acc: 0.9389 - val_loss: 0.6830 - val_acc: 0.8716\n",
      "Epoch 32/120\n",
      "40000/40000 [==============================] - 175s - loss: 0.4358 - acc: 0.9453 - val_loss: 0.7681 - val_acc: 0.8613\n",
      "Epoch 33/120\n",
      "40000/40000 [==============================] - 175s - loss: 0.4333 - acc: 0.9442 - val_loss: 0.7239 - val_acc: 0.8682\n",
      "Epoch 34/120\n",
      "40000/40000 [==============================] - 175s - loss: 0.4395 - acc: 0.9435 - val_loss: 0.6947 - val_acc: 0.8768\n",
      "Epoch 35/120\n",
      "40000/40000 [==============================] - 175s - loss: 0.4313 - acc: 0.9455 - val_loss: 0.9135 - val_acc: 0.8131\n",
      "Epoch 36/120\n",
      "40000/40000 [==============================] - 175s - loss: 0.4405 - acc: 0.9422 - val_loss: 0.7318 - val_acc: 0.8661\n",
      "Epoch 37/120\n",
      "40000/40000 [==============================] - 175s - loss: 0.4268 - acc: 0.9468 - val_loss: 0.7998 - val_acc: 0.8578\n",
      "Epoch 38/120\n",
      "40000/40000 [==============================] - 175s - loss: 0.4320 - acc: 0.9464 - val_loss: 1.0107 - val_acc: 0.8188\n",
      "Epoch 39/120\n",
      "40000/40000 [==============================] - 175s - loss: 0.4217 - acc: 0.9499 - val_loss: 0.7086 - val_acc: 0.8699\n",
      "Epoch 40/120\n",
      "40000/40000 [==============================] - 175s - loss: 0.4277 - acc: 0.9477 - val_loss: 0.8882 - val_acc: 0.8355\n",
      "Epoch 41/120\n",
      "40000/40000 [==============================] - 175s - loss: 0.4289 - acc: 0.9485 - val_loss: 0.7367 - val_acc: 0.8710\n",
      "Epoch 42/120\n",
      "40000/40000 [==============================] - 175s - loss: 0.4181 - acc: 0.9510 - val_loss: 0.8218 - val_acc: 0.8484\n",
      "Epoch 43/120\n",
      "40000/40000 [==============================] - 175s - loss: 0.4106 - acc: 0.9533 - val_loss: 0.7258 - val_acc: 0.8754\n",
      "Epoch 44/120\n",
      "40000/40000 [==============================] - 175s - loss: 0.4237 - acc: 0.9493 - val_loss: 0.8226 - val_acc: 0.8559\n",
      "Epoch 45/120\n",
      "40000/40000 [==============================] - 175s - loss: 0.4149 - acc: 0.9520 - val_loss: 0.7664 - val_acc: 0.8653\n",
      "Epoch 46/120\n",
      "40000/40000 [==============================] - 175s - loss: 0.4203 - acc: 0.9500 - val_loss: 0.7584 - val_acc: 0.8619\n",
      "Epoch 47/120\n",
      "40000/40000 [==============================] - 175s - loss: 0.4144 - acc: 0.9526 - val_loss: 0.7978 - val_acc: 0.8558\n",
      "Epoch 48/120\n",
      "40000/40000 [==============================] - 175s - loss: 0.4118 - acc: 0.9523 - val_loss: 0.8333 - val_acc: 0.8500\n",
      "Epoch 49/120\n",
      "40000/40000 [==============================] - 175s - loss: 0.4124 - acc: 0.9522 - val_loss: 0.7619 - val_acc: 0.8665\n",
      "Epoch 50/120\n",
      "40000/40000 [==============================] - 175s - loss: 0.4138 - acc: 0.9521 - val_loss: 0.6980 - val_acc: 0.8796\n",
      "Epoch 51/120\n",
      "40000/40000 [==============================] - 175s - loss: 0.4041 - acc: 0.9561 - val_loss: 0.8044 - val_acc: 0.8518\n",
      "Epoch 52/120\n",
      "40000/40000 [==============================] - 175s - loss: 0.4033 - acc: 0.9552 - val_loss: 1.1255 - val_acc: 0.8064\n",
      "Epoch 53/120\n",
      "40000/40000 [==============================] - 175s - loss: 0.4037 - acc: 0.9555 - val_loss: 0.7951 - val_acc: 0.8538\n",
      "Epoch 54/120\n",
      "40000/40000 [==============================] - 175s - loss: 0.4123 - acc: 0.9534 - val_loss: 0.7322 - val_acc: 0.8755\n",
      "Epoch 55/120\n",
      "40000/40000 [==============================] - 175s - loss: 0.3962 - acc: 0.9576 - val_loss: 0.7729 - val_acc: 0.8676\n",
      "Epoch 56/120\n",
      "40000/40000 [==============================] - 175s - loss: 0.4024 - acc: 0.9544 - val_loss: 0.8557 - val_acc: 0.8571\n",
      "Epoch 57/120\n",
      "40000/40000 [==============================] - 175s - loss: 0.3982 - acc: 0.9563 - val_loss: 0.7885 - val_acc: 0.8617\n",
      "Epoch 58/120\n",
      "40000/40000 [==============================] - 175s - loss: 0.3960 - acc: 0.9576 - val_loss: 0.7775 - val_acc: 0.8679\n",
      "Epoch 59/120\n",
      "40000/40000 [==============================] - 175s - loss: 0.4027 - acc: 0.9554 - val_loss: 0.8018 - val_acc: 0.8578\n",
      "Epoch 60/120\n",
      "40000/40000 [==============================] - 175s - loss: 0.3937 - acc: 0.9576 - val_loss: 0.6981 - val_acc: 0.8806\n",
      "Epoch 61/120\n",
      "40000/40000 [==============================] - 175s - loss: 0.3992 - acc: 0.9548 - val_loss: 0.9843 - val_acc: 0.8159\n",
      "Epoch 62/120\n",
      "40000/40000 [==============================] - 175s - loss: 0.3907 - acc: 0.9581 - val_loss: 0.7664 - val_acc: 0.8707\n",
      "Epoch 63/120\n"
     ]
    },
    {
     "name": "stdout",
     "output_type": "stream",
     "text": [
      "40000/40000 [==============================] - 174s - loss: 0.3941 - acc: 0.9571 - val_loss: 0.7222 - val_acc: 0.8735\n",
      "Epoch 64/120\n",
      "40000/40000 [==============================] - 174s - loss: 0.3978 - acc: 0.9554 - val_loss: 0.8464 - val_acc: 0.8492\n",
      "Epoch 65/120\n",
      "40000/40000 [==============================] - 174s - loss: 0.3913 - acc: 0.9581 - val_loss: 0.8844 - val_acc: 0.8450\n",
      "Epoch 66/120\n",
      "40000/40000 [==============================] - 174s - loss: 0.3934 - acc: 0.9580 - val_loss: 0.8630 - val_acc: 0.8480\n",
      "Epoch 67/120\n",
      "40000/40000 [==============================] - 175s - loss: 0.3924 - acc: 0.9571 - val_loss: 0.8377 - val_acc: 0.8596\n",
      "Epoch 68/120\n",
      "40000/40000 [==============================] - 174s - loss: 0.3809 - acc: 0.9619 - val_loss: 0.7765 - val_acc: 0.8655\n",
      "Epoch 69/120\n",
      "40000/40000 [==============================] - 174s - loss: 0.3797 - acc: 0.9616 - val_loss: 0.8663 - val_acc: 0.8581\n",
      "Epoch 70/120\n",
      "40000/40000 [==============================] - 174s - loss: 0.3888 - acc: 0.9571 - val_loss: 0.7624 - val_acc: 0.8683\n",
      "Epoch 71/120\n",
      "40000/40000 [==============================] - 175s - loss: 0.3841 - acc: 0.9599 - val_loss: 0.7319 - val_acc: 0.8736\n",
      "Epoch 72/120\n",
      "40000/40000 [==============================] - 175s - loss: 0.3838 - acc: 0.9578 - val_loss: 0.9154 - val_acc: 0.8439\n",
      "Epoch 73/120\n",
      "40000/40000 [==============================] - 174s - loss: 0.3850 - acc: 0.9589 - val_loss: 0.7752 - val_acc: 0.8698\n",
      "Epoch 74/120\n",
      "40000/40000 [==============================] - 174s - loss: 0.3794 - acc: 0.9598 - val_loss: 0.6912 - val_acc: 0.8765\n",
      "Epoch 75/120\n",
      "40000/40000 [==============================] - 174s - loss: 0.3785 - acc: 0.9607 - val_loss: 0.7145 - val_acc: 0.8768\n",
      "Epoch 76/120\n",
      "40000/40000 [==============================] - 175s - loss: 0.3805 - acc: 0.9593 - val_loss: 0.8898 - val_acc: 0.8509\n"
     ]
    },
    {
     "data": {
      "text/plain": [
       "<keras.callbacks.History at 0x7fb1c6defe48>"
      ]
     },
     "execution_count": 6,
     "metadata": {},
     "output_type": "execute_result"
    }
   ],
   "source": [
    "model.fit(x_train, y_train, batch_size=128, epochs=120,shuffle=True,\n",
    "          validation_data=(x_validate, y_validate),callbacks=[earlyStopping])"
   ]
  },
  {
   "cell_type": "code",
   "execution_count": 7,
   "metadata": {},
   "outputs": [],
   "source": [
    "model.save_weights('densenet100_cifar10_120epochs.h5')"
   ]
  },
  {
   "cell_type": "code",
   "execution_count": 8,
   "metadata": {},
   "outputs": [
    {
     "name": "stdout",
     "output_type": "stream",
     "text": [
      "10000/10000 [==============================] - 16s    \n",
      "Loss: 0.90 Accuracy: 84.46%\n"
     ]
    }
   ],
   "source": [
    "evaluation = model.evaluate(x_test,y_test, batch_size=512, verbose=1)\n",
    "print('Loss: %.2f Accuracy: %.2f%%' % (evaluation[0], evaluation[1]*100.0))"
   ]
  },
  {
   "cell_type": "code",
   "execution_count": null,
   "metadata": {
    "collapsed": true
   },
   "outputs": [],
   "source": []
  }
 ],
 "metadata": {
  "kernelspec": {
   "display_name": "Python 3",
   "language": "python",
   "name": "python3"
  },
  "language_info": {
   "codemirror_mode": {
    "name": "ipython",
    "version": 3
   },
   "file_extension": ".py",
   "mimetype": "text/x-python",
   "name": "python",
   "nbconvert_exporter": "python",
   "pygments_lexer": "ipython3",
   "version": "3.5.2"
  }
 },
 "nbformat": 4,
 "nbformat_minor": 2
}
