{
 "cells": [
  {
   "cell_type": "code",
   "execution_count": 1,
   "metadata": {},
   "outputs": [
    {
     "name": "stderr",
     "output_type": "stream",
     "text": [
      "Using TensorFlow backend.\n"
     ]
    }
   ],
   "source": [
    "%matplotlib inline\n",
    "import os\n",
    "os.environ[\"CUDA_DEVICE_ORDER\"]=\"PCI_BUS_ID\"\n",
    "os.environ[\"CUDA_VISIBLE_DEVICES\"]=\"1\"\n",
    "import numpy as np\n",
    "import keras\n",
    "from keras.models import Sequential\n",
    "from keras.layers import Input, Dense, Conv2D, MaxPooling2D,\\\n",
    "    UpSampling2D, Lambda, Activation, Flatten, Reshape, merge\n",
    "from keras.layers.normalization import BatchNormalization\n",
    "from keras.datasets import mnist\n",
    "from keras.layers.advanced_activations import LeakyReLU\n",
    "from keras.optimizers import Adam\n",
    "from PIL import Image\n",
    "import scipy.misc\n",
    "import matplotlib.pyplot as plt\n",
    "from scipy.misc import imsave\n",
    "import bcolz"
   ]
  },
  {
   "cell_type": "code",
   "execution_count": 2,
   "metadata": {
    "collapsed": true
   },
   "outputs": [],
   "source": [
    "(x_train, y_train), (x_test_, y_test_) = mnist.load_data()\n",
    "x_train = (x_train.astype(np.float32)/255.0) #* 2.0 - 1.0\n",
    "x_train = np.expand_dims(x_train, axis=3)"
   ]
  },
  {
   "cell_type": "code",
   "execution_count": 3,
   "metadata": {},
   "outputs": [
    {
     "name": "stderr",
     "output_type": "stream",
     "text": [
      "/usr/local/lib/python3.5/dist-packages/keras/activations.py:103: UserWarning: Do not pass a layer instance (such as LeakyReLU) as the activation argument of another layer. Instead, advanced activation layers should be used just like any other layer in a model.\n",
      "  ).format(identifier=identifier.__class__.__name__))\n"
     ]
    }
   ],
   "source": [
    "discriminator_model = Sequential()\n",
    "discriminator_model.add(Conv2D(256, (5,5), strides=(2,2), padding='same', \n",
    "                  activation=LeakyReLU(), input_shape=(28, 28, 1)))\n",
    "discriminator_model.add(Conv2D(512, (5,5), strides=(2,2), padding='same', \n",
    "                  activation=LeakyReLU()))\n",
    "discriminator_model.add(Flatten())\n",
    "discriminator_model.add(Dense(256, activation=LeakyReLU()))\n",
    "discriminator_model.add(Dense(1, activation = LeakyReLU()))\n",
    "discriminator_model.compile(Adam(0.000001), loss=\"binary_crossentropy\")"
   ]
  },
  {
   "cell_type": "code",
   "execution_count": 4,
   "metadata": {
    "collapsed": true
   },
   "outputs": [],
   "source": [
    "generator_model = Sequential()\n",
    "generator_model.add(Dense(512*7*7, activation='relu', input_dim=100))\n",
    "generator_model.add(BatchNormalization())\n",
    "generator_model.add(Reshape((7, 7, 512)))\n",
    "generator_model.add(UpSampling2D())\n",
    "generator_model.add(Conv2D(64, (3,3), padding='same', activation='relu'))\n",
    "generator_model.add(BatchNormalization())\n",
    "generator_model.add(UpSampling2D())\n",
    "generator_model.add(Conv2D(32, (3,3), padding='same', activation='relu'))\n",
    "generator_model.add(BatchNormalization())\n",
    "generator_model.add(Conv2D(1, (1,1), padding='same', activation='tanh'))"
   ]
  },
  {
   "cell_type": "code",
   "execution_count": 5,
   "metadata": {},
   "outputs": [
    {
     "name": "stdout",
     "output_type": "stream",
     "text": [
      "Epoch 1/1\n",
      "120000/120000 [==============================] - 30s - loss: 1.9492    \n"
     ]
    },
    {
     "data": {
      "text/plain": [
       "<keras.callbacks.History at 0x7f2cd853f668>"
      ]
     },
     "execution_count": 5,
     "metadata": {},
     "output_type": "execute_result"
    }
   ],
   "source": [
    "'''Train discriminator for 1 epoch as a start'''\n",
    "init_data = len(x_train)\n",
    "\n",
    "real = np.random.permutation(x_train)[:init_data]\n",
    "fake = generator_model.predict(np.random.rand(init_data,100))\n",
    "x_init = np.concatenate((real,fake))\n",
    "\n",
    "real_label = np.zeros((init_data,1))\n",
    "fake_label = np.ones((init_data,1))\n",
    "y_init = np.concatenate((real_label,fake_label))\n",
    "discriminator_model.fit(x_init,y_init,batch_size=128,epochs=1)"
   ]
  },
  {
   "cell_type": "code",
   "execution_count": 6,
   "metadata": {
    "collapsed": true
   },
   "outputs": [],
   "source": [
    "model = Sequential([generator_model, discriminator_model])\n",
    "model.compile(Adam(0.000001), loss = \"binary_crossentropy\")"
   ]
  },
  {
   "cell_type": "code",
   "execution_count": 7,
   "metadata": {
    "collapsed": true
   },
   "outputs": [],
   "source": [
    "num_iterations = 250\n",
    "real_per_iter = 1000\n",
    "fake_per_iter = 1000\n",
    "\n",
    "real_label = np.zeros((real_per_iter,1))\n",
    "fake_label = np.ones((fake_per_iter,1))\n",
    "y_mini = np.concatenate((real_label,fake_label))\n",
    "\n",
    "discriminator_loss = []\n",
    "generator_loss = []\n",
    "num_data = len(x_train)\n",
    "repeat_discriminator = 1\n",
    "repeat_generator = 1"
   ]
  },
  {
   "cell_type": "code",
   "execution_count": 46,
   "metadata": {},
   "outputs": [
    {
     "name": "stdout",
     "output_type": "stream",
     "text": [
      "Iteration #0\n",
      "Discriminator loss = 1.061296 Generator loss = 0.241924\n",
      "Iteration #1\n",
      "Discriminator loss = 1.104431 Generator loss = 0.219966\n",
      "Iteration #2\n",
      "Discriminator loss = 1.143719 Generator loss = 0.197820\n",
      "Iteration #3\n",
      "Discriminator loss = 1.221221 Generator loss = 0.181680\n",
      "Iteration #4\n",
      "Discriminator loss = 1.275266 Generator loss = 0.174700\n",
      "Iteration #5\n",
      "Discriminator loss = 1.283853 Generator loss = 0.169023\n",
      "Iteration #6\n",
      "Discriminator loss = 1.249663 Generator loss = 0.172707\n",
      "Iteration #7\n",
      "Discriminator loss = 1.273625 Generator loss = 0.178701\n",
      "Iteration #8\n",
      "Discriminator loss = 1.231330 Generator loss = 0.185319\n",
      "Iteration #9\n",
      "Discriminator loss = 1.253614 Generator loss = 0.179837\n",
      "Iteration #10\n",
      "Discriminator loss = 1.246384 Generator loss = 0.179308\n",
      "Iteration #11\n",
      "Discriminator loss = 1.200803 Generator loss = 0.198320\n",
      "Iteration #12\n",
      "Discriminator loss = 1.164734 Generator loss = 0.205959\n",
      "Iteration #13\n",
      "Discriminator loss = 1.163345 Generator loss = 0.203904\n",
      "Iteration #14\n",
      "Discriminator loss = 1.165140 Generator loss = 0.198015\n",
      "Iteration #15\n",
      "Discriminator loss = 1.189047 Generator loss = 0.198340\n",
      "Iteration #16\n",
      "Discriminator loss = 1.226440 Generator loss = 0.189550\n",
      "Iteration #17\n",
      "Discriminator loss = 1.090649 Generator loss = 0.226416\n",
      "Iteration #18\n",
      "Discriminator loss = 1.065719 Generator loss = 0.243206\n",
      "Iteration #19\n",
      "Discriminator loss = 1.060596 Generator loss = 0.236596\n",
      "Iteration #20\n",
      "Discriminator loss = 1.088133 Generator loss = 0.231852\n",
      "Iteration #21\n",
      "Discriminator loss = 1.077280 Generator loss = 0.217001\n",
      "Iteration #22\n",
      "Discriminator loss = 1.113995 Generator loss = 0.206702\n",
      "Iteration #23\n",
      "Discriminator loss = 1.156929 Generator loss = 0.194461\n",
      "Iteration #24\n",
      "Discriminator loss = 1.201259 Generator loss = 0.186270\n",
      "Iteration #25\n",
      "Discriminator loss = 1.232026 Generator loss = 0.186582\n",
      "Iteration #26\n",
      "Discriminator loss = 1.252002 Generator loss = 0.183326\n",
      "Iteration #27\n",
      "Discriminator loss = 1.172003 Generator loss = 0.189888\n",
      "Iteration #28\n",
      "Discriminator loss = 1.177211 Generator loss = 0.197594\n",
      "Iteration #29\n",
      "Discriminator loss = 1.151457 Generator loss = 0.203764\n",
      "Iteration #30\n",
      "Discriminator loss = 1.145647 Generator loss = 0.207338\n",
      "Iteration #31\n",
      "Discriminator loss = 1.153364 Generator loss = 0.203318\n",
      "Iteration #32\n",
      "Discriminator loss = 1.158198 Generator loss = 0.197662\n",
      "Iteration #33\n",
      "Discriminator loss = 1.180073 Generator loss = 0.193499\n",
      "Iteration #34\n",
      "Discriminator loss = 1.207342 Generator loss = 0.192489\n",
      "Iteration #35\n",
      "Discriminator loss = 1.158227 Generator loss = 0.197428\n",
      "Iteration #36\n",
      "Discriminator loss = 1.149271 Generator loss = 0.200103\n",
      "Iteration #37\n",
      "Discriminator loss = 1.171805 Generator loss = 0.198372\n",
      "Iteration #38\n",
      "Discriminator loss = 1.192968 Generator loss = 0.193044\n",
      "Iteration #39\n",
      "Discriminator loss = 1.163649 Generator loss = 0.195657\n",
      "Iteration #40\n",
      "Discriminator loss = 1.183054 Generator loss = 0.193351\n",
      "Iteration #41\n",
      "Discriminator loss = 1.199018 Generator loss = 0.193589\n",
      "Iteration #42\n",
      "Discriminator loss = 1.189538 Generator loss = 0.190581\n",
      "Iteration #43\n",
      "Discriminator loss = 1.189713 Generator loss = 0.194308\n",
      "Iteration #44\n",
      "Discriminator loss = 1.154620 Generator loss = 0.195814\n",
      "Iteration #45\n",
      "Discriminator loss = 1.160244 Generator loss = 0.190622\n",
      "Iteration #46\n",
      "Discriminator loss = 1.157464 Generator loss = 0.199103\n",
      "Iteration #47\n",
      "Discriminator loss = 1.134321 Generator loss = 0.195641\n",
      "Iteration #48\n",
      "Discriminator loss = 1.141650 Generator loss = 0.194723\n",
      "Iteration #49\n",
      "Discriminator loss = 0.951233 Generator loss = 0.299364\n",
      "Iteration #50\n",
      "Discriminator loss = 0.905018 Generator loss = 0.324694\n",
      "Iteration #51\n",
      "Discriminator loss = 0.921434 Generator loss = 0.315548\n",
      "Iteration #52\n",
      "Discriminator loss = 0.955046 Generator loss = 0.294235\n",
      "Iteration #53\n",
      "Discriminator loss = 0.974797 Generator loss = 0.271583\n",
      "Iteration #54\n",
      "Discriminator loss = 1.018841 Generator loss = 0.248994\n",
      "Iteration #55\n",
      "Discriminator loss = 1.065434 Generator loss = 0.234049\n",
      "Iteration #56\n",
      "Discriminator loss = 1.071857 Generator loss = 0.218737\n",
      "Iteration #57\n",
      "Discriminator loss = 1.132182 Generator loss = 0.201522\n",
      "Iteration #58\n",
      "Discriminator loss = 1.137808 Generator loss = 0.196655\n",
      "Iteration #59\n",
      "Discriminator loss = 1.138367 Generator loss = 0.196690\n",
      "Iteration #60\n",
      "Discriminator loss = 1.161662 Generator loss = 0.194196\n",
      "Iteration #61\n",
      "Discriminator loss = 1.150992 Generator loss = 0.197966\n",
      "Iteration #62\n",
      "Discriminator loss = 1.140176 Generator loss = 0.198662\n",
      "Iteration #63\n",
      "Discriminator loss = 1.123620 Generator loss = 0.207602\n",
      "Iteration #64\n",
      "Discriminator loss = 1.115684 Generator loss = 0.213390\n",
      "Iteration #65\n",
      "Discriminator loss = 1.104966 Generator loss = 0.213789\n",
      "Iteration #66\n",
      "Discriminator loss = 1.111526 Generator loss = 0.206583\n",
      "Iteration #67\n",
      "Discriminator loss = 1.135993 Generator loss = 0.203873\n",
      "Iteration #68\n",
      "Discriminator loss = 1.149047 Generator loss = 0.197897\n",
      "Iteration #69\n",
      "Discriminator loss = 1.144541 Generator loss = 0.194717\n",
      "Iteration #70\n",
      "Discriminator loss = 1.159434 Generator loss = 0.196944\n",
      "Iteration #71\n",
      "Discriminator loss = 1.157179 Generator loss = 0.196468\n",
      "Iteration #72\n",
      "Discriminator loss = 1.127364 Generator loss = 0.200637\n",
      "Iteration #73\n",
      "Discriminator loss = 1.093709 Generator loss = 0.215454\n",
      "Iteration #74\n",
      "Discriminator loss = 1.084197 Generator loss = 0.223175\n",
      "Iteration #75\n",
      "Discriminator loss = 1.067813 Generator loss = 0.213388\n",
      "Iteration #76\n",
      "Discriminator loss = 1.096662 Generator loss = 0.209653\n",
      "Iteration #77\n",
      "Discriminator loss = 1.105971 Generator loss = 0.207636\n",
      "Iteration #78\n",
      "Discriminator loss = 1.106779 Generator loss = 0.208564\n",
      "Iteration #79\n",
      "Discriminator loss = 1.115641 Generator loss = 0.209791\n",
      "Iteration #80\n",
      "Discriminator loss = 1.092999 Generator loss = 0.209317\n",
      "Iteration #81\n",
      "Discriminator loss = 1.095835 Generator loss = 0.208756\n",
      "Iteration #82\n",
      "Discriminator loss = 1.099976 Generator loss = 0.208445\n",
      "Iteration #83\n",
      "Discriminator loss = 1.118254 Generator loss = 0.209366\n",
      "Iteration #84\n",
      "Discriminator loss = 1.089846 Generator loss = 0.207088\n",
      "Iteration #85\n",
      "Discriminator loss = 1.099595 Generator loss = 0.208290\n",
      "Iteration #86\n",
      "Discriminator loss = 1.118748 Generator loss = 0.208203\n",
      "Iteration #87\n",
      "Discriminator loss = 1.100518 Generator loss = 0.209218\n",
      "Iteration #88\n",
      "Discriminator loss = 1.101349 Generator loss = 0.210101\n",
      "Iteration #89\n",
      "Discriminator loss = 1.112474 Generator loss = 0.210238\n",
      "Iteration #90\n",
      "Discriminator loss = 1.099083 Generator loss = 0.211340\n",
      "Iteration #91\n",
      "Discriminator loss = 1.090243 Generator loss = 0.211421\n",
      "Iteration #92\n",
      "Discriminator loss = 1.089598 Generator loss = 0.209692\n",
      "Iteration #93\n",
      "Discriminator loss = 1.096469 Generator loss = 0.211521\n",
      "Iteration #94\n",
      "Discriminator loss = 1.097162 Generator loss = 0.208678\n",
      "Iteration #95\n",
      "Discriminator loss = 1.092349 Generator loss = 0.206916\n",
      "Iteration #96\n",
      "Discriminator loss = 1.085975 Generator loss = 0.213937\n",
      "Iteration #97\n",
      "Discriminator loss = 1.071671 Generator loss = 0.215257\n",
      "Iteration #98\n",
      "Discriminator loss = 1.080134 Generator loss = 0.219787\n",
      "Iteration #99\n",
      "Discriminator loss = 1.048577 Generator loss = 0.226785\n"
     ]
    }
   ],
   "source": [
    "num_iterations = 100\n",
    "real_per_iter = 1000\n",
    "fake_per_iter = 1000\n",
    "repeat_discriminator = 10\n",
    "repeat_generator = 0\n",
    "for i in range(num_iterations):\n",
    "    print('Iteration #%d' % i)\n",
    "    real = x_train[np.random.randint(0,high=num_data,size=real_per_iter)]\n",
    "    fake = generator_model.predict(np.random.rand(fake_per_iter,100))\n",
    "    x_mini = np.concatenate((real, fake))\n",
    "    '''Training discriminator'''\n",
    "    discriminator_loss.append(discriminator_model.train_on_batch(x_mini,y_mini))\n",
    "    for k in range(repeat_discriminator):\n",
    "        real_ = x_train[np.random.randint(0,high=num_data,size=real_per_iter)]\n",
    "        fake_ = generator_model.predict(np.random.rand(fake_per_iter,100))\n",
    "        x_mini_ = np.concatenate((real, fake))\n",
    "        discriminator_loss.append(discriminator_model.train_on_batch(x_mini_,y_mini))\n",
    "    \n",
    "    '''Freeze discriminator'''\n",
    "    discriminator_model.trainable = False\n",
    "    for layer in discriminator_model.layers:\n",
    "        layer.trainable = False\n",
    "    \n",
    "    '''Training generator'''\n",
    "    generator_x = np.random.rand(fake_per_iter*2,100)\n",
    "    generator_y = np.zeros((fake_per_iter*2,1))\n",
    "    generator_loss.append(model.train_on_batch(generator_x, generator_y))\n",
    "    for k in range(repeat_generator):\n",
    "        generator_x_ = np.random.rand(fake_per_iter*2,100)\n",
    "        generator_y_ = np.zeros((fake_per_iter*2,1))\n",
    "        generator_loss.append(model.train_on_batch(generator_x_, generator_y_))\n",
    "    \n",
    "    '''Unfreeze discriminator'''\n",
    "    discriminator_model.trainable = True\n",
    "    for layer in discriminator_model.layers:\n",
    "        layer.trainable = True\n",
    "    \n",
    "    '''Show losses'''\n",
    "    print('Discriminator loss = %.6f Generator loss = %.6f'\n",
    "          % (discriminator_loss[len(discriminator_loss)-1],\n",
    "             generator_loss[len(generator_loss)-1]))"
   ]
  },
  {
   "cell_type": "code",
   "execution_count": 47,
   "metadata": {},
   "outputs": [
    {
     "data": {
      "text/plain": [
       "<matplotlib.text.Text at 0x7f2c59958048>"
      ]
     },
     "execution_count": 47,
     "metadata": {},
     "output_type": "execute_result"
    },
    {
     "data": {
      "image/png": "[encoded data removed]",
      "text/plain": [
       "<matplotlib.figure.Figure at 0x7f2c59ea9f28>"
      ]
     },
     "metadata": {},
     "output_type": "display_data"
    }
   ],
   "source": [
    "figure,axis = plt.subplots(1,2)\n",
    "plt.tight_layout()\n",
    "axis[0].plot(discriminator_loss)\n",
    "axis[0].set_title(\"Discriminator Loss\")\n",
    "axis[1].plot(generator_loss)\n",
    "axis[1].set_title(\"Generator Loss\")"
   ]
  },
  {
   "cell_type": "code",
   "execution_count": 48,
   "metadata": {},
   "outputs": [
    {
     "data": {
      "image/png": "[encoded data removed]",
      "text/plain": [
       "<matplotlib.figure.Figure at 0x7f2c59fcc2e8>"
      ]
     },
     "metadata": {},
     "output_type": "display_data"
    }
   ],
   "source": [
    "num_generated = 9\n",
    "in_noise = np.random.rand(num_generated,100)\n",
    "im = generator_model.predict(in_noise)\n",
    "im = im[:,:,:,0]\n",
    "figure,axis = plt.subplots(3,3,figsize=(10,10))\n",
    "plt.tight_layout()\n",
    "for i in range(3):\n",
    "    for j in range(3):\n",
    "        axis[i,j].imshow(im[i*3+j],cmap='gray')\n",
    "        axis[i,j].set_yticklabels([])\n",
    "        axis[i,j].set_xticklabels([])"
   ]
  },
  {
   "cell_type": "code",
   "execution_count": 49,
   "metadata": {
    "collapsed": true
   },
   "outputs": [],
   "source": [
    "discriminator_model.save_weights('discriminator_model.h5')\n",
    "model.save_weights('generator_model.h5')"
   ]
  },
  {
   "cell_type": "code",
   "execution_count": null,
   "metadata": {
    "collapsed": true
   },
   "outputs": [],
   "source": []
  }
 ],
 "metadata": {
  "kernelspec": {
   "display_name": "Python 3",
   "language": "python",
   "name": "python3"
  },
  "language_info": {
   "codemirror_mode": {
    "name": "ipython",
    "version": 3
   },
   "file_extension": ".py",
   "mimetype": "text/x-python",
   "name": "python",
   "nbconvert_exporter": "python",
   "pygments_lexer": "ipython3",
   "version": "3.5.2"
  }
 },
 "nbformat": 4,
 "nbformat_minor": 2
}
