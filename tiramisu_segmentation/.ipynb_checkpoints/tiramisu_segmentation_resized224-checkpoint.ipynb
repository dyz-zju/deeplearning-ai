{
 "cells": [
  {
   "cell_type": "code",
   "execution_count": 1,
   "metadata": {},
   "outputs": [
    {
     "name": "stderr",
     "output_type": "stream",
     "text": [
      "Using TensorFlow backend.\n"
     ]
    }
   ],
   "source": [
    "%matplotlib inline\n",
    "import os\n",
    "os.environ[\"CUDA_DEVICE_ORDER\"]=\"PCI_BUS_ID\"\n",
    "os.environ[\"CUDA_VISIBLE_DEVICES\"]=\"1\"\n",
    "import numpy as np\n",
    "import keras\n",
    "from keras.layers import Input, Dense, Conv2D, AveragePooling2D, Activation, GlobalAveragePooling2D, UpSampling2D, Lambda\n",
    "from keras.layers.core import Dropout, Reshape\n",
    "from keras.layers.merge import Concatenate\n",
    "from keras.layers.normalization import BatchNormalization\n",
    "from keras.initializers import Initializer\n",
    "from keras.regularizers import l2\n",
    "from keras.models import Model\n",
    "from keras.optimizers import Adam\n",
    "from PIL import Image\n",
    "import scipy.misc\n",
    "import matplotlib.pyplot as plt\n",
    "from scipy.misc import imsave\n",
    "import pydot\n",
    "import graphviz\n",
    "from keras.utils import plot_model\n",
    "import glob\n",
    "import bcolz\n",
    "import threading\n",
    "import random"
   ]
  },
  {
   "cell_type": "code",
   "execution_count": 2,
   "metadata": {
    "collapsed": true
   },
   "outputs": [],
   "source": [
    "#Open dataset\n",
    "xx_train = bcolz.open('dataset2/x_train.bc')[:]\n",
    "yy_train_encoded = bcolz.open('dataset2/y_train_encoded.bc')[:]\n",
    "\n",
    "xx_train-=0.4\n",
    "xx_train/=0.3\n",
    "\n",
    "x_train = xx_train[:450]\n",
    "y_train = yy_train_encoded[:450]\n",
    "\n",
    "x_validation = xx_train[450:]\n",
    "y_validation = yy_train_encoded[450:]\n",
    "\n",
    "n,r,c,ch = x_train.shape"
   ]
  },
  {
   "cell_type": "code",
   "execution_count": 3,
   "metadata": {
    "collapsed": true
   },
   "outputs": [],
   "source": [
    "class BatchIndices(object):\n",
    "    def __init__(self, n, bs, shuffle=False):\n",
    "        self.n,self.bs,self.shuffle = n,bs,shuffle\n",
    "        self.lock = threading.Lock()\n",
    "        self.reset()\n",
    "\n",
    "    def reset(self):\n",
    "        self.idxs = (np.random.permutation(self.n) \n",
    "                     if self.shuffle else np.arange(0, self.n))\n",
    "        self.curr = 0\n",
    "\n",
    "    def __next__(self):\n",
    "        with self.lock:\n",
    "            if self.curr >= self.n: self.reset()\n",
    "            ni = min(self.bs, self.n-self.curr)\n",
    "            res = self.idxs[self.curr:self.curr+ni]\n",
    "            self.curr += ni\n",
    "            return res\n",
    "\n",
    "class segm_generator(object):\n",
    "    def __init__(self, x, y, bs=1, out_sz=(256,384), train=True):\n",
    "        self.x, self.y, self.bs, self.train = x,y,bs,train\n",
    "        self.n, self.ri, self.ci, _ = x.shape\n",
    "        self.idx_gen = BatchIndices(self.n, bs, train)\n",
    "        self.ro, self.co = out_sz\n",
    "        self.ych = self.y.shape[-1] if len(y.shape)==4 else 1\n",
    "\n",
    "    def get_slice(self, i,o):\n",
    "        start = random.randint(0, i-o) if self.train else (i-o)\n",
    "        return slice(start, start+o)\n",
    "\n",
    "    def get_item(self, idx):\n",
    "        slice_r = self.get_slice(self.ri, self.ro)\n",
    "        slice_c = self.get_slice(self.ci, self.co)\n",
    "        x = self.x[idx, slice_r, slice_c]\n",
    "        y = self.y[idx, slice_r, slice_c]\n",
    "        if self.train and (random.random()>0.5): \n",
    "            y = y[:,::-1]\n",
    "            x = x[:,::-1]\n",
    "        return x, y\n",
    "\n",
    "    def __next__(self):\n",
    "        idxs = next(self.idx_gen)\n",
    "        items = (self.get_item(idx) for idx in idxs)\n",
    "        xs,ys = zip(*items)\n",
    "        return np.stack(xs), np.stack(ys).reshape(len(ys), -1, self.ych)"
   ]
  },
  {
   "cell_type": "code",
   "execution_count": 4,
   "metadata": {
    "collapsed": true
   },
   "outputs": [],
   "source": [
    "train_generator = segm_generator(x_train, y_train, 3, train=True)\n",
    "validation_generator = segm_generator(x_validation, y_validation, 3, train=False)"
   ]
  },
  {
   "cell_type": "code",
   "execution_count": 5,
   "metadata": {
    "collapsed": true
   },
   "outputs": [],
   "source": [
    "#Similar to densenet implementation, we define these blocks/layers\n",
    "#The only difference is that now we want to store x_ to be concatenated\n",
    "#into the upsampling part of the network\n",
    "\n",
    "#Since there are downsampling and upsampling part, we also need\n",
    "# to define a new block, transition_layers_upsample\n",
    "\n",
    "def dense_block(x,num_layers_per_block_,growth_rate):\n",
    "    store_x_ = []\n",
    "    for i in range(num_layers_per_block_):\n",
    "        x_ = BatchNormalization()(x)\n",
    "        x_ = Activation('relu')(x_)\n",
    "        x_ = Conv2D(growth_rate,(3,3),padding='same',\n",
    "                    kernel_initializer='he_normal',\n",
    "                    kernel_regularizer=l2(0.0001))(x_)\n",
    "        x_ = Dropout(0.2)(x_)\n",
    "        store_x_.append(x_)\n",
    "        x = Concatenate()([x,x_])\n",
    "    return x, store_x_\n",
    "\n",
    "def transition_downsample_layers(x):\n",
    "    updated_num_filters = int(x.get_shape().as_list()[-1])\n",
    "    x = BatchNormalization()(x)\n",
    "    x = Activation('relu')(x)\n",
    "    x = Conv2D(updated_num_filters,(1,1),padding='same',\n",
    "               kernel_initializer='he_normal',\n",
    "               kernel_regularizer=l2(0.0001))(x)\n",
    "    x = AveragePooling2D()(x)\n",
    "    x = Dropout(0.2)(x)\n",
    "    return x\n",
    "\n",
    "def transition_upsample_layers(store_x_):\n",
    "    x = Concatenate()(store_x_)\n",
    "    x = UpSampling2D()(x)\n",
    "    return x"
   ]
  },
  {
   "cell_type": "code",
   "execution_count": 6,
   "metadata": {
    "collapsed": true
   },
   "outputs": [],
   "source": [
    "#Define model parameters\n",
    "num_dense_blocks = 6\n",
    "growth_rate = 16\n",
    "number_filters = 48\n",
    "num_layers_per_block = [4,5,7,10,12,15] #see in paper"
   ]
  },
  {
   "cell_type": "code",
   "execution_count": 7,
   "metadata": {
    "collapsed": true
   },
   "outputs": [],
   "source": [
    "#Let's define the model\n",
    "inp = Input((256, 384, 3))\n",
    "x = Conv2D(number_filters,(3,3),padding='same',\n",
    "           kernel_initializer='he_normal',\n",
    "           kernel_regularizer=l2(0.0001))(inp)\n",
    "\n",
    "#Downsample\n",
    "skip_connection = []\n",
    "for i in range(len(num_layers_per_block)):\n",
    "    x,store_x_ = dense_block(x,num_layers_per_block[i],growth_rate)\n",
    "    skip_connection.append(x)\n",
    "    x = transition_downsample_layers(x)\n",
    "    \n",
    "#Upsample\n",
    "skip_connection_ = (skip_connection[:-1])[::-1]\n",
    "num_layers_per_block_ = (num_layers_per_block[:-1])[::-1]\n",
    "for i in range(len(num_layers_per_block_)):\n",
    "    x = transition_upsample_layers(store_x_)\n",
    "    x = Concatenate()([x,skip_connection_[i]])\n",
    "    x,store_x_ = dense_block(x,num_layers_per_block_[i],growth_rate)\n",
    "\n",
    "x = Conv2D(32,(1,1),padding='same',\n",
    "           kernel_initializer='he_normal',\n",
    "           kernel_regularizer=l2(0.0001))(x)\n",
    "x = Reshape((-1, 32))(x)\n",
    "x = Activation('softmax')(x)"
   ]
  },
  {
   "cell_type": "code",
   "execution_count": 8,
   "metadata": {
    "collapsed": true
   },
   "outputs": [],
   "source": [
    "model = Model(inp, x)\n",
    "model.compile(loss='sparse_categorical_crossentropy', \n",
    "              optimizer=keras.optimizers.RMSprop(1e-3),\n",
    "              metrics=[\"accuracy\"])\n",
    "plot_model(model, to_file='model_256by384_augmented.png')"
   ]
  },
  {
   "cell_type": "code",
   "execution_count": 11,
   "metadata": {},
   "outputs": [
    {
     "name": "stdout",
     "output_type": "stream",
     "text": [
      "Epoch 1/70\n",
      "400s - loss: 0.8348 - acc: 0.8043 - val_loss: 0.8275 - val_acc: 0.8037\n",
      "Epoch 2/70\n",
      "400s - loss: 0.7696 - acc: 0.8222 - val_loss: 0.7403 - val_acc: 0.8292\n",
      "Epoch 3/70\n",
      "400s - loss: 0.7165 - acc: 0.8341 - val_loss: 0.6596 - val_acc: 0.8466\n",
      "Epoch 4/70\n",
      "399s - loss: 0.6746 - acc: 0.8425 - val_loss: 0.7358 - val_acc: 0.8388\n",
      "Epoch 5/70\n",
      "400s - loss: 0.6524 - acc: 0.8479 - val_loss: 0.7393 - val_acc: 0.8191\n",
      "Epoch 6/70\n",
      "400s - loss: 0.6183 - acc: 0.8570 - val_loss: 0.6798 - val_acc: 0.8480\n",
      "Epoch 7/70\n",
      "400s - loss: 0.5986 - acc: 0.8602 - val_loss: 0.5946 - val_acc: 0.8614\n",
      "Epoch 8/70\n",
      "400s - loss: 0.5893 - acc: 0.8626 - val_loss: 0.6806 - val_acc: 0.8545\n",
      "Epoch 9/70\n",
      "400s - loss: 0.5730 - acc: 0.8674 - val_loss: 0.8109 - val_acc: 0.8183\n",
      "Epoch 10/70\n",
      "400s - loss: 0.5582 - acc: 0.8707 - val_loss: 0.5416 - val_acc: 0.8764\n",
      "Epoch 11/70\n",
      "400s - loss: 0.5467 - acc: 0.8725 - val_loss: 0.6212 - val_acc: 0.8635\n",
      "Epoch 12/70\n",
      "400s - loss: 0.5345 - acc: 0.8756 - val_loss: 0.7018 - val_acc: 0.8357\n",
      "Epoch 13/70\n",
      "400s - loss: 0.5315 - acc: 0.8759 - val_loss: 0.6033 - val_acc: 0.8631\n",
      "Epoch 14/70\n",
      "400s - loss: 0.5215 - acc: 0.8785 - val_loss: 0.6073 - val_acc: 0.8627\n",
      "Epoch 15/70\n",
      "400s - loss: 0.5048 - acc: 0.8819 - val_loss: 0.5231 - val_acc: 0.8809\n",
      "Epoch 16/70\n",
      "400s - loss: 0.4984 - acc: 0.8834 - val_loss: 0.5938 - val_acc: 0.8662\n",
      "Epoch 17/70\n",
      "400s - loss: 0.4915 - acc: 0.8856 - val_loss: 0.5867 - val_acc: 0.8726\n",
      "Epoch 18/70\n",
      "400s - loss: 0.4907 - acc: 0.8852 - val_loss: 0.6114 - val_acc: 0.8599\n",
      "Epoch 19/70\n",
      "400s - loss: 0.4845 - acc: 0.8870 - val_loss: 0.5334 - val_acc: 0.8811\n",
      "Epoch 20/70\n",
      "400s - loss: 0.4756 - acc: 0.8889 - val_loss: 0.6424 - val_acc: 0.8561\n",
      "Epoch 21/70\n",
      "400s - loss: 0.4666 - acc: 0.8909 - val_loss: 0.5368 - val_acc: 0.8797\n",
      "Epoch 22/70\n",
      "400s - loss: 0.4606 - acc: 0.8922 - val_loss: 0.5647 - val_acc: 0.8709\n",
      "Epoch 23/70\n",
      "400s - loss: 0.4596 - acc: 0.8926 - val_loss: 0.5859 - val_acc: 0.8676\n",
      "Epoch 24/70\n",
      "400s - loss: 0.4521 - acc: 0.8938 - val_loss: 0.5175 - val_acc: 0.8814\n",
      "Epoch 25/70\n",
      "400s - loss: 0.4518 - acc: 0.8945 - val_loss: 0.4889 - val_acc: 0.8879\n",
      "Epoch 26/70\n",
      "400s - loss: 0.4483 - acc: 0.8952 - val_loss: 0.4566 - val_acc: 0.8967\n",
      "Epoch 27/70\n",
      "400s - loss: 0.4411 - acc: 0.8971 - val_loss: 0.4936 - val_acc: 0.8893\n",
      "Epoch 28/70\n",
      "400s - loss: 0.4385 - acc: 0.8974 - val_loss: 0.6606 - val_acc: 0.8536\n",
      "Epoch 29/70\n",
      "400s - loss: 0.4367 - acc: 0.8981 - val_loss: 0.5855 - val_acc: 0.8799\n",
      "Epoch 30/70\n",
      "400s - loss: 0.4329 - acc: 0.8985 - val_loss: 0.5955 - val_acc: 0.8674\n",
      "Epoch 31/70\n",
      "400s - loss: 0.4262 - acc: 0.9000 - val_loss: 0.4775 - val_acc: 0.8916\n",
      "Epoch 32/70\n",
      "400s - loss: 0.4245 - acc: 0.9003 - val_loss: 0.5601 - val_acc: 0.8665\n",
      "Epoch 33/70\n",
      "400s - loss: 0.4242 - acc: 0.9003 - val_loss: 0.4966 - val_acc: 0.8899\n",
      "Epoch 34/70\n",
      "400s - loss: 0.4173 - acc: 0.9022 - val_loss: 0.4975 - val_acc: 0.8874\n",
      "Epoch 35/70\n",
      "400s - loss: 0.4242 - acc: 0.9003 - val_loss: 0.5003 - val_acc: 0.8918\n",
      "Epoch 36/70\n",
      "400s - loss: 0.4148 - acc: 0.9027 - val_loss: 0.4621 - val_acc: 0.8954\n",
      "Epoch 37/70\n",
      "400s - loss: 0.4104 - acc: 0.9038 - val_loss: 0.5044 - val_acc: 0.8856\n",
      "Epoch 38/70\n",
      "400s - loss: 0.4143 - acc: 0.9030 - val_loss: 0.5256 - val_acc: 0.8888\n",
      "Epoch 39/70\n",
      "400s - loss: 0.4090 - acc: 0.9038 - val_loss: 0.7343 - val_acc: 0.8300\n",
      "Epoch 40/70\n",
      "400s - loss: 0.4077 - acc: 0.9043 - val_loss: 0.4893 - val_acc: 0.8888\n",
      "Epoch 41/70\n",
      "400s - loss: 0.4010 - acc: 0.9058 - val_loss: 0.5048 - val_acc: 0.8839\n",
      "Epoch 42/70\n",
      "400s - loss: 0.4047 - acc: 0.9043 - val_loss: 1.0477 - val_acc: 0.8282\n",
      "Epoch 43/70\n",
      "400s - loss: 0.4016 - acc: 0.9057 - val_loss: 0.7624 - val_acc: 0.8354\n",
      "Epoch 44/70\n",
      "400s - loss: 0.4000 - acc: 0.9058 - val_loss: 0.5852 - val_acc: 0.8658\n",
      "Epoch 45/70\n",
      "400s - loss: 0.3998 - acc: 0.9060 - val_loss: 0.4786 - val_acc: 0.8910\n",
      "Epoch 46/70\n",
      "400s - loss: 0.3916 - acc: 0.9076 - val_loss: 0.4651 - val_acc: 0.8996\n",
      "Epoch 47/70\n",
      "400s - loss: 0.3968 - acc: 0.9064 - val_loss: 0.5084 - val_acc: 0.8883\n",
      "Epoch 48/70\n",
      "400s - loss: 0.3901 - acc: 0.9080 - val_loss: 0.4500 - val_acc: 0.9005\n",
      "Epoch 49/70\n",
      "400s - loss: 0.3939 - acc: 0.9070 - val_loss: 0.4523 - val_acc: 0.9011\n",
      "Epoch 50/70\n",
      "400s - loss: 0.3908 - acc: 0.9078 - val_loss: 0.4718 - val_acc: 0.8954\n",
      "Epoch 51/70\n",
      "400s - loss: 0.3884 - acc: 0.9083 - val_loss: 0.4552 - val_acc: 0.8952\n",
      "Epoch 52/70\n",
      "400s - loss: 0.3908 - acc: 0.9082 - val_loss: 0.4440 - val_acc: 0.8988\n",
      "Epoch 53/70\n",
      "400s - loss: 0.3841 - acc: 0.9093 - val_loss: 0.4704 - val_acc: 0.8976\n",
      "Epoch 54/70\n",
      "400s - loss: 0.3884 - acc: 0.9085 - val_loss: 0.5109 - val_acc: 0.8795\n",
      "Epoch 55/70\n",
      "400s - loss: 0.3840 - acc: 0.9094 - val_loss: 0.4549 - val_acc: 0.8999\n",
      "Epoch 56/70\n",
      "400s - loss: 0.3811 - acc: 0.9098 - val_loss: 0.4563 - val_acc: 0.8973\n",
      "Epoch 57/70\n",
      "400s - loss: 0.3794 - acc: 0.9103 - val_loss: 0.4593 - val_acc: 0.9022\n",
      "Epoch 58/70\n",
      "400s - loss: 0.3803 - acc: 0.9101 - val_loss: 0.5274 - val_acc: 0.8863\n",
      "Epoch 59/70\n",
      "400s - loss: 0.3818 - acc: 0.9091 - val_loss: 0.5106 - val_acc: 0.8912\n",
      "Epoch 60/70\n",
      "400s - loss: 0.3790 - acc: 0.9102 - val_loss: 0.4437 - val_acc: 0.9017\n",
      "Epoch 61/70\n",
      "400s - loss: 0.3779 - acc: 0.9102 - val_loss: 0.4525 - val_acc: 0.9008\n",
      "Epoch 62/70\n",
      "400s - loss: 0.3804 - acc: 0.9098 - val_loss: 0.4255 - val_acc: 0.9017\n",
      "Epoch 63/70\n",
      "400s - loss: 0.3759 - acc: 0.9113 - val_loss: 0.4269 - val_acc: 0.9056\n",
      "Epoch 64/70\n",
      "400s - loss: 0.3721 - acc: 0.9116 - val_loss: 0.5230 - val_acc: 0.8871\n",
      "Epoch 65/70\n",
      "400s - loss: 0.3798 - acc: 0.9098 - val_loss: 0.6484 - val_acc: 0.8731\n",
      "Epoch 66/70\n",
      "400s - loss: 0.3739 - acc: 0.9117 - val_loss: 0.4726 - val_acc: 0.8947\n",
      "Epoch 67/70\n",
      "400s - loss: 0.3732 - acc: 0.9118 - val_loss: 0.4786 - val_acc: 0.8902\n",
      "Epoch 68/70\n",
      "400s - loss: 0.3708 - acc: 0.9122 - val_loss: 0.4318 - val_acc: 0.9032\n",
      "Epoch 69/70\n",
      "400s - loss: 0.3720 - acc: 0.9117 - val_loss: 0.5255 - val_acc: 0.8898\n",
      "Epoch 70/70\n",
      "400s - loss: 0.3688 - acc: 0.9126 - val_loss: 0.5026 - val_acc: 0.8887\n"
     ]
    },
    {
     "data": {
      "text/plain": [
       "<keras.callbacks.History at 0x7fb2fe6d1860>"
      ]
     },
     "execution_count": 11,
     "metadata": {},
     "output_type": "execute_result"
    }
   ],
   "source": [
    "model.fit_generator(train_generator, len(x_train), epochs=70, \n",
    "                    validation_data=validation_generator, \n",
    "                    validation_steps=len(x_validation),\n",
    "                    verbose=2)"
   ]
  },
  {
   "cell_type": "code",
   "execution_count": 12,
   "metadata": {
    "collapsed": true
   },
   "outputs": [],
   "source": [
    "model.save('tiramisu256by384_augmented_70epochs_model_weights.h5')\n",
    "model.save_weights('tiramisu256by384_augmented_70epochs_weights.h5')"
   ]
  },
  {
   "cell_type": "code",
   "execution_count": 13,
   "metadata": {
    "collapsed": true
   },
   "outputs": [],
   "source": [
    "def parse_code(l):\n",
    "    a = l.strip().split(\"\\t\")\n",
    "    codes = tuple(int(o) for o in a[0].split(' '))\n",
    "    names = a[1]\n",
    "    return codes,names\n",
    "\n",
    "def color_label(a): \n",
    "    r,c=a.shape\n",
    "    res = np.zeros((r,c,3), 'uint8')\n",
    "    for j in range(r): \n",
    "        for k in range(c):\n",
    "            var = id2code[a[j,k]]\n",
    "            res[j,k] = var\n",
    "    return res"
   ]
  },
  {
   "cell_type": "code",
   "execution_count": 14,
   "metadata": {
    "collapsed": true
   },
   "outputs": [],
   "source": [
    "label_codes,label_names = zip(*[parse_code(l) for l in open(\"dataset_unsplitted/label_colors.txt\")])\n",
    "code2id = {v:k for k,v in enumerate(label_codes)}\n",
    "id2code = {k:v for k,v in enumerate(label_codes)}"
   ]
  },
  {
   "cell_type": "code",
   "execution_count": null,
   "metadata": {
    "collapsed": true
   },
   "outputs": [],
   "source": [
    "predictions = model.predict_generator(validation_generator,\n",
    "                                      len(x_validation))\n",
    "predictions = np.argmax(predictions, axis=-1)"
   ]
  },
  {
   "cell_type": "code",
   "execution_count": null,
   "metadata": {
    "collapsed": true
   },
   "outputs": [],
   "source": [
    "plt.imshow(color_label(np.resize(predictions[0], (224,224))))"
   ]
  },
  {
   "cell_type": "code",
   "execution_count": null,
   "metadata": {
    "collapsed": true
   },
   "outputs": [],
   "source": [
    "t = x_validation[4,:224,96:]\n",
    "im = np.expand_dims(t,axis=0)\n",
    "p = model.predict(im)\n",
    "p_arg = np.argmax(p, axis=-1)\n",
    "p_arg_resized = np.resize(p[0], (224,224))"
   ]
  },
  {
   "cell_type": "code",
   "execution_count": 21,
   "metadata": {},
   "outputs": [],
   "source": [
    "idx= 10\n",
    "t = np.resize(x_validation[idx],(256,384,3))\n",
    "im = np.expand_dims(t,axis=0)\n",
    "p = model.predict(im)\n",
    "p_arg = np.argmax(p, axis=-1)"
   ]
  },
  {
   "cell_type": "code",
   "execution_count": 22,
   "metadata": {},
   "outputs": [
    {
     "data": {
      "text/plain": [
       "<matplotlib.image.AxesImage at 0x7fb2fc717c50>"
      ]
     },
     "execution_count": 22,
     "metadata": {},
     "output_type": "execute_result"
    },
    {
     "data": {
      "image/png": "[encoded data removed]",
      "text/plain": [
       "<matplotlib.figure.Figure at 0x7fb2fc7a1a20>"
      ]
     },
     "metadata": {},
     "output_type": "display_data"
    }
   ],
   "source": [
    "plt.imshow(color_label(np.resize(p_arg[0], (256,384))))"
   ]
  },
  {
   "cell_type": "code",
   "execution_count": null,
   "metadata": {
    "collapsed": true
   },
   "outputs": [],
   "source": []
  }
 ],
 "metadata": {
  "kernelspec": {
   "display_name": "Python 3",
   "language": "python",
   "name": "python3"
  },
  "language_info": {
   "codemirror_mode": {
    "name": "ipython",
    "version": 3
   },
   "file_extension": ".py",
   "mimetype": "text/x-python",
   "name": "python",
   "nbconvert_exporter": "python",
   "pygments_lexer": "ipython3",
   "version": "3.5.2"
  }
 },
 "nbformat": 4,
 "nbformat_minor": 2
}
